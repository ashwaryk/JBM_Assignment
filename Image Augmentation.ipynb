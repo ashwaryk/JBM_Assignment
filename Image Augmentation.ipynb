{
 "cells": [
  {
   "cell_type": "markdown",
   "metadata": {},
   "source": [
    "# This code was used for Image Augmentation\n",
    "\n",
    "### Since the number of samples that were given were not enough for training a \"Neural Network\"\n",
    "### Additional samples were created from the existing samples.\n",
    "### These new samples are actually the original samples that are zoomed/rotated/moved up or down/moved left or right. "
   ]
  },
  {
   "cell_type": "code",
   "execution_count": null,
   "metadata": {
    "collapsed": true
   },
   "outputs": [],
   "source": [
    "## Import the libraries\n",
    "import os\n",
    "from PIL import Image\n",
    "import numpy as np\n",
    "from keras.preprocessing.image import img_to_array, load_img"
   ]
  },
  {
   "cell_type": "code",
   "execution_count": null,
   "metadata": {
    "collapsed": true
   },
   "outputs": [],
   "source": [
    "# Import ImageDataGenerator for image preprocessing/augmentation\n",
    "# This basically creates multiple copies of train images by jittering(adding noise). \n",
    "# This includes rotating, zooming in, flipping, shifting, etc.\n",
    "from keras.preprocessing.image import ImageDataGenerator\n",
    "\n",
    "datagen = ImageDataGenerator(\n",
    "        rotation_range=15,\n",
    "        width_shift_range=0.1,\n",
    "        height_shift_range=0.1,\n",
    "        shear_range=0.1,\n",
    "        zoom_range=0.1,\n",
    "        horizontal_flip=False,\n",
    "        fill_mode='nearest') # 'nearest' is kind of algorithm to fill pixel values while transformationb"
   ]
  },
  {
   "cell_type": "code",
   "execution_count": null,
   "metadata": {
    "collapsed": true
   },
   "outputs": [],
   "source": [
    "if not os.path.exists('train'):\n",
    "    os.mkdir(\"train\")\n",
    "\n",
    "# function which resize images and stores in list(list1) and stores all train labels in list(target)\n",
    "for folder in dirs:\n",
    "    if not os.path.exists('train/'+folder):\n",
    "        os.mkdir('train/'+folder)\n",
    "    print(folder)\n",
    "    for img in os.listdir(path+folder):\n",
    "        if os.path.isfile(path+folder+\"/\"+img):\n",
    "            img = load_img(path+folder+\"/\"+img)  # this is a PIL image\n",
    "            x = img_to_array(img)  # this is a Numpy array with shape (480, 640, 3)\n",
    "            x = x.reshape((1,) + x.shape)  # this is a Numpy array with shape (1, 480, 640, 3)\n",
    "\n",
    "            # the .flow() command below generates batches of randomly transformed images\n",
    "            # and saves the results to the `preview/` directory\n",
    "            i = 0\n",
    "            for batch in datagen.flow(x, batch_size=1,\n",
    "                                      save_to_dir= 'train/'+folder, save_prefix='c0', save_format='jpg'):\n",
    "                i += 1\n",
    "                if i > 20:\n",
    "                    break  # otherwise the generator would loop indefinitely"
   ]
  },
  {
   "cell_type": "code",
   "execution_count": null,
   "metadata": {
    "collapsed": true
   },
   "outputs": [],
   "source": []
  },
  {
   "cell_type": "code",
   "execution_count": null,
   "metadata": {
    "collapsed": true
   },
   "outputs": [],
   "source": []
  }
 ],
 "metadata": {
  "kernelspec": {
   "display_name": "Python 3",
   "language": "python",
   "name": "python3"
  },
  "language_info": {
   "codemirror_mode": {
    "name": "ipython",
    "version": 3
   },
   "file_extension": ".py",
   "mimetype": "text/x-python",
   "name": "python",
   "nbconvert_exporter": "python",
   "pygments_lexer": "ipython3",
   "version": "3.6.3"
  }
 },
 "nbformat": 4,
 "nbformat_minor": 2
}
